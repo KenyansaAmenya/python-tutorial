{
 "cells": [
  {
   "cell_type": "code",
   "execution_count": 1,
   "id": "973674b5-cdb0-4bd5-a7ee-65403f573cc5",
   "metadata": {},
   "outputs": [
    {
     "name": "stdout",
     "output_type": "stream",
     "text": [
      "22\n"
     ]
    }
   ],
   "source": [
    "x = 22\n",
    "print(x)"
   ]
  },
  {
   "cell_type": "code",
   "execution_count": 3,
   "id": "5f48cb78-c1d0-41f4-83eb-62a3cae255a0",
   "metadata": {},
   "outputs": [
    {
     "data": {
      "text/plain": [
       "int"
      ]
     },
     "execution_count": 3,
     "metadata": {},
     "output_type": "execute_result"
    }
   ],
   "source": [
    "type(x)"
   ]
  },
  {
   "cell_type": "code",
   "execution_count": 5,
   "id": "c60df563-e6d8-40d7-90dc-b06d2c0dc211",
   "metadata": {},
   "outputs": [
    {
     "name": "stdout",
     "output_type": "stream",
     "text": [
      "felix amenya\n"
     ]
    }
   ],
   "source": [
    "y = 'felix amenya'\n",
    "print(y)"
   ]
  },
  {
   "cell_type": "code",
   "execution_count": 7,
   "id": "8a2c5f50-5bee-4a4e-bec7-a549fbf5af0d",
   "metadata": {},
   "outputs": [
    {
     "data": {
      "text/plain": [
       "str"
      ]
     },
     "execution_count": 7,
     "metadata": {},
     "output_type": "execute_result"
    }
   ],
   "source": [
    "type(y)"
   ]
  },
  {
   "cell_type": "code",
   "execution_count": 9,
   "id": "fe621620-47c4-46ac-9182-24694de84181",
   "metadata": {},
   "outputs": [
    {
     "name": "stdout",
     "output_type": "stream",
     "text": [
      "felix amenya\n"
     ]
    }
   ],
   "source": [
    "print(y)"
   ]
  },
  {
   "cell_type": "code",
   "execution_count": 2,
   "id": "d403c729-79de-49e4-9f9e-a376200d12a4",
   "metadata": {},
   "outputs": [
    {
     "name": "stdout",
     "output_type": "stream",
     "text": [
      "Ruto\n",
      "Raila\n",
      "Uhuru\n"
     ]
    }
   ],
   "source": [
    "x,y,z = 'Ruto', 'Raila', 'Uhuru'\n",
    "\n",
    "print(x)\n",
    "print(y)\n",
    "print(z)"
   ]
  },
  {
   "cell_type": "code",
   "execution_count": 4,
   "id": "c4738e05-670b-485e-9336-3b29ca4862f0",
   "metadata": {},
   "outputs": [
    {
     "name": "stdout",
     "output_type": "stream",
     "text": [
      "Kenyan politics is scum\n",
      "Kenyan politics is scum\n",
      "Kenyan politics is scum\n"
     ]
    }
   ],
   "source": [
    "x = y = z = 'Kenyan politics is scum'\n",
    "\n",
    "print(x)\n",
    "print(y)\n",
    "print(z)"
   ]
  },
  {
   "cell_type": "code",
   "execution_count": 6,
   "id": "3a41e1a5-1b2a-47b5-addd-ed813fb886e7",
   "metadata": {},
   "outputs": [
    {
     "name": "stdout",
     "output_type": "stream",
     "text": [
      "Ruto\n",
      "Raila\n",
      "Uhuru\n"
     ]
    }
   ],
   "source": [
    "kenyan_politicians = ['Ruto', 'Raila', 'Uhuru']\n",
    "\n",
    "x,y,z = kenyan_politicians\n",
    "\n",
    "print(x)\n",
    "print(y)\n",
    "print(z)"
   ]
  },
  {
   "cell_type": "code",
   "execution_count": null,
   "id": "40fb81c0-4f7e-4793-ac24-f3b906b4c48e",
   "metadata": {},
   "outputs": [],
   "source": [
    "# Camel Case\n",
    "\n",
    "#Test Variable Case\n",
    "\n",
    "testVariableCase = 'Kenyan Politicians'"
   ]
  },
  {
   "cell_type": "code",
   "execution_count": null,
   "id": "47852fac-57cc-44a3-bce0-c1696165ef0c",
   "metadata": {},
   "outputs": [],
   "source": [
    "# Pascal Case\n",
    "\n",
    "#Test Variable Case\n",
    "\n",
    "TestVariableCase = 'Kenyan Politicians'"
   ]
  },
  {
   "cell_type": "code",
   "execution_count": null,
   "id": "b243ae54-894e-43eb-8d54-687189cd2a01",
   "metadata": {},
   "outputs": [],
   "source": [
    "# Snake Case\n",
    "\n",
    "#Test Variable Case\n",
    "\n",
    "test_variable_case = 'Kenyan Politicians'"
   ]
  },
  {
   "cell_type": "code",
   "execution_count": null,
   "id": "29933a4e-f1e7-470d-be55-e9be5052e389",
   "metadata": {},
   "outputs": [],
   "source": [
    "testvar = 'Kenyan Politicians'\n",
    "test_var = 'Kenyan Politicians'\n",
    "_testvar = 'Kenyan Politicians'\n",
    "testVar = 'Kenyan Politicians'\n",
    "TestVar = 'Kenyan Politicians'\n",
    "testVar2 = 'Kenyan Politicians'"
   ]
  },
  {
   "cell_type": "code",
   "execution_count": null,
   "id": "44e733b1-3107-40f9-8f23-202faafef34b",
   "metadata": {},
   "outputs": [],
   "source": []
  },
  {
   "cell_type": "code",
   "execution_count": 8,
   "id": "a10c410e-31df-42ca-9943-c353e161ca0b",
   "metadata": {},
   "outputs": [
    {
     "name": "stdout",
     "output_type": "stream",
     "text": [
      "Ice Cream is my favourite.\n"
     ]
    }
   ],
   "source": [
    "x = 'Ice Cream is my favourite' + '.'\n",
    "\n",
    "print(x)"
   ]
  },
  {
   "cell_type": "code",
   "execution_count": 10,
   "id": "9907a762-b083-492c-8781-bd85689b5c38",
   "metadata": {},
   "outputs": [
    {
     "name": "stdout",
     "output_type": "stream",
     "text": [
      "5\n"
     ]
    }
   ],
   "source": [
    "y = 3 + 2\n",
    "\n",
    "print(y)"
   ]
  },
  {
   "cell_type": "code",
   "execution_count": null,
   "id": "340f9db7-8fb9-4b14-aa40-c85f3bb59613",
   "metadata": {},
   "outputs": [],
   "source": []
  },
  {
   "cell_type": "code",
   "execution_count": 16,
   "id": "7100a2a0-4438-4c50-a12b-da96069a97e4",
   "metadata": {},
   "outputs": [
    {
     "name": "stdout",
     "output_type": "stream",
     "text": [
      "Ice Cream is my favourite.\n"
     ]
    }
   ],
   "source": [
    "x = 'Ice Cream'\n",
    "y = ' is'\n",
    "z = ' my favourite.'\n",
    "\n",
    "print(x+y+z)"
   ]
  },
  {
   "cell_type": "code",
   "execution_count": 18,
   "id": "78a45cea-1999-4948-a3ae-8394e180f80a",
   "metadata": {},
   "outputs": [
    {
     "name": "stdout",
     "output_type": "stream",
     "text": [
      "6\n"
     ]
    }
   ],
   "source": [
    "x = 1\n",
    "y = 2\n",
    "z = 3\n",
    "\n",
    "print(x+y+z)"
   ]
  },
  {
   "cell_type": "code",
   "execution_count": 20,
   "id": "c3045e9a-50ea-4cc1-a774-a29abd18f914",
   "metadata": {},
   "outputs": [
    {
     "name": "stdout",
     "output_type": "stream",
     "text": [
      "Ice Cream 2\n"
     ]
    }
   ],
   "source": [
    "x = 'Ice Cream'\n",
    "y = 2\n",
    "\n",
    "print(x,y)"
   ]
  },
  {
   "cell_type": "code",
   "execution_count": null,
   "id": "267c525f-b5da-45aa-b4e9-9ea461651460",
   "metadata": {},
   "outputs": [],
   "source": []
  }
 ],
 "metadata": {
  "kernelspec": {
   "display_name": "Python [conda env:base] *",
   "language": "python",
   "name": "conda-base-py"
  },
  "language_info": {
   "codemirror_mode": {
    "name": "ipython",
    "version": 3
   },
   "file_extension": ".py",
   "mimetype": "text/x-python",
   "name": "python",
   "nbconvert_exporter": "python",
   "pygments_lexer": "ipython3",
   "version": "3.12.7"
  }
 },
 "nbformat": 4,
 "nbformat_minor": 5
}
