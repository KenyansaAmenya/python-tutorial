{
 "cells": [
  {
   "cell_type": "markdown",
   "id": "749585c0-7d41-4c45-8a10-5203899e9723",
   "metadata": {},
   "source": [
    "# Functions"
   ]
  },
  {
   "cell_type": "code",
   "execution_count": 3,
   "id": "5ec47f7d-151d-46cc-a82d-61a0e0e1450f",
   "metadata": {},
   "outputs": [],
   "source": [
    "def first_function():\n",
    "    print('We did it!')"
   ]
  },
  {
   "cell_type": "code",
   "execution_count": 5,
   "id": "9309e4a0-38a5-4298-94f9-6e04a45afd3c",
   "metadata": {},
   "outputs": [
    {
     "name": "stdout",
     "output_type": "stream",
     "text": [
      "We did it!\n"
     ]
    }
   ],
   "source": [
    "first_function()"
   ]
  },
  {
   "cell_type": "code",
   "execution_count": 7,
   "id": "361948fe-1873-4927-8b3f-685c7e2749ae",
   "metadata": {},
   "outputs": [],
   "source": [
    "def number_squared(number):\n",
    "    print(number**2)"
   ]
  },
  {
   "cell_type": "code",
   "execution_count": 9,
   "id": "47eea3c8-cc9d-4b7c-b113-b0ba8ad84f47",
   "metadata": {},
   "outputs": [
    {
     "name": "stdout",
     "output_type": "stream",
     "text": [
      "25\n"
     ]
    }
   ],
   "source": [
    "number_squared(5)"
   ]
  },
  {
   "cell_type": "code",
   "execution_count": 11,
   "id": "ad8963bd-5220-44b7-b409-3f14d7fcba7a",
   "metadata": {},
   "outputs": [],
   "source": [
    "def number_squared_cust(number,power):\n",
    "    print(number**power)"
   ]
  },
  {
   "cell_type": "code",
   "execution_count": 15,
   "id": "c77a451a-15b7-4dc7-be56-416953ee4358",
   "metadata": {},
   "outputs": [
    {
     "name": "stdout",
     "output_type": "stream",
     "text": [
      "125\n"
     ]
    }
   ],
   "source": [
    "number_squared_cust(5,3)"
   ]
  },
  {
   "cell_type": "code",
   "execution_count": 25,
   "id": "76fb3eb7-9883-47e2-b17e-104350e2ab1b",
   "metadata": {},
   "outputs": [],
   "source": [
    "def number_args(*number):\n",
    "    print(number[0]*number[1])"
   ]
  },
  {
   "cell_type": "code",
   "execution_count": 27,
   "id": "9c76ea57-7c9a-4f85-9411-a6fe385a3a8e",
   "metadata": {},
   "outputs": [
    {
     "name": "stdout",
     "output_type": "stream",
     "text": [
      "30\n"
     ]
    }
   ],
   "source": [
    "number_args(5,6,1,2,8)"
   ]
  },
  {
   "cell_type": "code",
   "execution_count": 29,
   "id": "a697a279-0fc7-4cad-98e3-4cfdbe25baf6",
   "metadata": {},
   "outputs": [],
   "source": [
    "args_tuple = (5,6,1,2,8)\n",
    "\n",
    "def number_args(*number):\n",
    "    print(number[0]*number[1])"
   ]
  },
  {
   "cell_type": "code",
   "execution_count": 35,
   "id": "5afd3f9a-8076-4ce9-94bf-9ff790b264bb",
   "metadata": {},
   "outputs": [
    {
     "name": "stdout",
     "output_type": "stream",
     "text": [
      "30\n"
     ]
    }
   ],
   "source": [
    "number_args(*args_tuple)"
   ]
  },
  {
   "cell_type": "code",
   "execution_count": 37,
   "id": "3ed0ea92-3d0c-47a4-82ae-de0aa32ce93f",
   "metadata": {},
   "outputs": [],
   "source": [
    "def number_squared_cust(number,power):\n",
    "    print(number**power)"
   ]
  },
  {
   "cell_type": "code",
   "execution_count": 41,
   "id": "a29870f6-4673-4377-b740-9f6c8722bdc3",
   "metadata": {},
   "outputs": [
    {
     "name": "stdout",
     "output_type": "stream",
     "text": [
      "243\n"
     ]
    }
   ],
   "source": [
    "number_squared_cust(power = 5,number = 3)"
   ]
  },
  {
   "cell_type": "code",
   "execution_count": 45,
   "id": "5440f9a8-846c-4ade-951e-c7e08a30f9a0",
   "metadata": {},
   "outputs": [],
   "source": [
    "def number_kwarg(**number):\n",
    "    print('My number is: ' + number['interger'])"
   ]
  },
  {
   "cell_type": "code",
   "execution_count": 47,
   "id": "892ba5b3-1aad-41df-9bd3-34636967a2d5",
   "metadata": {},
   "outputs": [
    {
     "name": "stdout",
     "output_type": "stream",
     "text": [
      "My number is: 2309\n"
     ]
    }
   ],
   "source": [
    "number_kwarg(interger = '2309')"
   ]
  },
  {
   "cell_type": "code",
   "execution_count": 53,
   "id": "8250bbf8-d6b1-421d-b1dd-9bcb77e96e76",
   "metadata": {},
   "outputs": [],
   "source": [
    "def number_kwarg(**number):\n",
    "    print('My number is: ' + number['interger'] + ' My other number: ' + number['interger2'])"
   ]
  },
  {
   "cell_type": "code",
   "execution_count": 55,
   "id": "902920f2-d2f6-4599-9919-da4e1a04ac5b",
   "metadata": {},
   "outputs": [
    {
     "name": "stdout",
     "output_type": "stream",
     "text": [
      "My number is: 2309 My other number: 349\n"
     ]
    }
   ],
   "source": [
    "number_kwarg(interger = '2309', interger2 = '349')"
   ]
  },
  {
   "cell_type": "code",
   "execution_count": null,
   "id": "a0b22161-97f2-4f66-8ff0-b6582560dc5b",
   "metadata": {},
   "outputs": [],
   "source": []
  }
 ],
 "metadata": {
  "kernelspec": {
   "display_name": "Python [conda env:base] *",
   "language": "python",
   "name": "conda-base-py"
  },
  "language_info": {
   "codemirror_mode": {
    "name": "ipython",
    "version": 3
   },
   "file_extension": ".py",
   "mimetype": "text/x-python",
   "name": "python",
   "nbconvert_exporter": "python",
   "pygments_lexer": "ipython3",
   "version": "3.12.7"
  }
 },
 "nbformat": 4,
 "nbformat_minor": 5
}
